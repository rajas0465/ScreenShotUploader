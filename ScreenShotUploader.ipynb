{
 "cells": [
  {
   "cell_type": "code",
   "execution_count": 1,
   "id": "fa79d171",
   "metadata": {},
   "outputs": [],
   "source": [
    "from pydrive.auth import GoogleAuth\n",
    "from pydrive.drive import GoogleDrive\n",
    "import glob\n",
    "gauth = GoogleAuth()           \n",
    "drive = GoogleDrive(gauth)\n",
    "root_dir = \"C:\\\\Users\\\\Admin\\\\Pictures\\\\Screenshots\""
   ]
  },
  {
   "cell_type": "code",
   "execution_count": 2,
   "id": "0fe82ad5",
   "metadata": {},
   "outputs": [
    {
     "name": "stdout",
     "output_type": "stream",
     "text": [
      "<class 'str'>\n",
      "C:\\Users\\Admin\\Pictures\\Screenshots\\Screenshot (1).png\n",
      "Your browser has been opened to visit:\n",
      "\n",
      "    https://accounts.google.com/o/oauth2/auth?client_id=106542632399-nrl3ao9udjons25h74duk23g3tdsd2m9.apps.googleusercontent.com&redirect_uri=http%3A%2F%2Flocalhost%3A8080%2F&scope=https%3A%2F%2Fwww.googleapis.com%2Fauth%2Fdrive&access_type=offline&response_type=code\n",
      "\n",
      "Authentication successful.\n",
      "<class 'str'>\n",
      "C:\\Users\\Admin\\Pictures\\Screenshots\\Screenshot (2).png\n",
      "<class 'str'>\n",
      "C:\\Users\\Admin\\Pictures\\Screenshots\\Screenshot (3).png\n",
      "<class 'str'>\n",
      "C:\\Users\\Admin\\Pictures\\Screenshots\\Screenshot (4).png\n",
      "<class 'str'>\n",
      "C:\\Users\\Admin\\Pictures\\Screenshots\\Screenshot (5).png\n",
      "<class 'str'>\n",
      "C:\\Users\\Admin\\Pictures\\Screenshots\\Screenshot (6).png\n",
      "<class 'str'>\n",
      "C:\\Users\\Admin\\Pictures\\Screenshots\\Screenshot (7).png\n",
      "<class 'str'>\n",
      "C:\\Users\\Admin\\Pictures\\Screenshots\\Screenshot (8).png\n",
      "<class 'str'>\n",
      "C:\\Users\\Admin\\Pictures\\Screenshots\\Screenshot 2022-07-04 205704.png\n",
      "<class 'str'>\n",
      "C:\\Users\\Admin\\Pictures\\Screenshots\\Screenshot 2022-07-04 211029.png\n"
     ]
    }
   ],
   "source": [
    "\n",
    "# # Upload files to your Google Drive\n",
    "\n",
    "upload_file_list = ['1.JPG', '2.jpg']\n",
    "for upload_file in glob.iglob(root_dir + '**/*.png', recursive=True):\n",
    "    print(type(upload_file))\n",
    "    print(upload_file)\n",
    "    gfile = drive.CreateFile({'parents': [{'id': '1g3O42x56c6c2nMem93VZJbJ--R7m4vTa'}]})\n",
    "    # Read file and set it as a content of this instance.\n",
    "    gfile.SetContentFile(upload_file)\n",
    "    gfile.Upload() # Upload the file.\n"
   ]
  },
  {
   "cell_type": "code",
   "execution_count": null,
   "id": "b9c18f66",
   "metadata": {},
   "outputs": [],
   "source": [
    "import os\n",
    "filelist=os.listdir('C:\\\\Users\\\\Admin\\\\Pictures\\\\Screenshots')\n",
    "for fichier in filelist:\n",
    "    if not(fichier.endswith(\".png\")):\n",
    "        filelist.remove(fichier)\n",
    "print(filelist)"
   ]
  },
  {
   "cell_type": "code",
   "execution_count": null,
   "id": "a494fdbb",
   "metadata": {},
   "outputs": [],
   "source": [
    "import glob\n",
    "root_dir = \"C:\\\\Users\\\\Admin\\\\Pictures\\\\Screenshots\"\n",
    "for filename in glob.iglob(root_dir + '**/*.png', recursive=True):\n",
    "    print(filename)"
   ]
  },
  {
   "cell_type": "code",
   "execution_count": null,
   "id": "a00113c2",
   "metadata": {},
   "outputs": [],
   "source": []
  }
 ],
 "metadata": {
  "kernelspec": {
   "display_name": "Python 3 (ipykernel)",
   "language": "python",
   "name": "python3"
  },
  "language_info": {
   "codemirror_mode": {
    "name": "ipython",
    "version": 3
   },
   "file_extension": ".py",
   "mimetype": "text/x-python",
   "name": "python",
   "nbconvert_exporter": "python",
   "pygments_lexer": "ipython3",
   "version": "3.9.12"
  }
 },
 "nbformat": 4,
 "nbformat_minor": 5
}
